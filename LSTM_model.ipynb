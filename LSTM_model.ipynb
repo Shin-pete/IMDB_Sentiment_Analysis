{
 "cells": [
  {
   "cell_type": "markdown",
   "metadata": {},
   "source": [
    "Here we harness the power of neural networks to be able to read a bloc of text and ascertain the quality of the film. To that end, we tokenized and lemmatized our text and then used an LSTM Neural Network to determine whether the overall tone of the film was positive or not. The utility of a program like this can be applied to sentiment analysis for things like twitter or other platforms and it becomes really easy to get a snapshot about what an audience or consumer finds to be good and what they find to be bad.  "
   ]
  },
  {
   "cell_type": "markdown",
   "metadata": {},
   "source": [
    "# IMPORTING THE NECESSARY INFORMATION"
   ]
  },
  {
   "cell_type": "code",
   "execution_count": 209,
   "metadata": {
    "scrolled": false
   },
   "outputs": [
    {
     "data": {
      "text/html": [
       "<div>\n",
       "<style scoped>\n",
       "    .dataframe tbody tr th:only-of-type {\n",
       "        vertical-align: middle;\n",
       "    }\n",
       "\n",
       "    .dataframe tbody tr th {\n",
       "        vertical-align: top;\n",
       "    }\n",
       "\n",
       "    .dataframe thead th {\n",
       "        text-align: right;\n",
       "    }\n",
       "</style>\n",
       "<table border=\"1\" class=\"dataframe\">\n",
       "  <thead>\n",
       "    <tr style=\"text-align: right;\">\n",
       "      <th></th>\n",
       "      <th>filename</th>\n",
       "      <th>rating</th>\n",
       "      <th>review</th>\n",
       "    </tr>\n",
       "  </thead>\n",
       "  <tbody>\n",
       "    <tr>\n",
       "      <th>0</th>\n",
       "      <td>0_9.txt</td>\n",
       "      <td>1</td>\n",
       "      <td>Bromwell High is a cartoon comedy. It ran at t...</td>\n",
       "    </tr>\n",
       "    <tr>\n",
       "      <th>1</th>\n",
       "      <td>10000_8.txt</td>\n",
       "      <td>1</td>\n",
       "      <td>Homelessness (or Houselessness as George Carli...</td>\n",
       "    </tr>\n",
       "    <tr>\n",
       "      <th>2</th>\n",
       "      <td>10001_10.txt</td>\n",
       "      <td>1</td>\n",
       "      <td>Brilliant over-acting by Lesley Ann Warren. Be...</td>\n",
       "    </tr>\n",
       "    <tr>\n",
       "      <th>3</th>\n",
       "      <td>10002_7.txt</td>\n",
       "      <td>1</td>\n",
       "      <td>This is easily the most underrated film inn th...</td>\n",
       "    </tr>\n",
       "    <tr>\n",
       "      <th>4</th>\n",
       "      <td>10003_8.txt</td>\n",
       "      <td>1</td>\n",
       "      <td>This is not the typical Mel Brooks film. It wa...</td>\n",
       "    </tr>\n",
       "  </tbody>\n",
       "</table>\n",
       "</div>"
      ],
      "text/plain": [
       "       filename  rating                                             review\n",
       "0       0_9.txt       1  Bromwell High is a cartoon comedy. It ran at t...\n",
       "1   10000_8.txt       1  Homelessness (or Houselessness as George Carli...\n",
       "2  10001_10.txt       1  Brilliant over-acting by Lesley Ann Warren. Be...\n",
       "3   10002_7.txt       1  This is easily the most underrated film inn th...\n",
       "4   10003_8.txt       1  This is not the typical Mel Brooks film. It wa..."
      ]
     },
     "execution_count": 209,
     "metadata": {},
     "output_type": "execute_result"
    }
   ],
   "source": [
    "import pandas as pd\n",
    "import numpy as np\n",
    "from string import punctuation\n",
    "from os import listdir\n",
    "from collections import Counter\n",
    "from nltk.corpus import stopwords\n",
    "import matplotlib.pyplot as plt\n",
    "\n",
    "df1= pd.read_pickle(\"./data/all_data_pkl.pickle\")\n",
    "df1.head()"
   ]
  },
  {
   "cell_type": "code",
   "execution_count": 210,
   "metadata": {
    "scrolled": true
   },
   "outputs": [
    {
     "data": {
      "text/html": [
       "<div>\n",
       "<style scoped>\n",
       "    .dataframe tbody tr th:only-of-type {\n",
       "        vertical-align: middle;\n",
       "    }\n",
       "\n",
       "    .dataframe tbody tr th {\n",
       "        vertical-align: top;\n",
       "    }\n",
       "\n",
       "    .dataframe thead th {\n",
       "        text-align: right;\n",
       "    }\n",
       "</style>\n",
       "<table border=\"1\" class=\"dataframe\">\n",
       "  <thead>\n",
       "    <tr style=\"text-align: right;\">\n",
       "      <th></th>\n",
       "      <th>filename</th>\n",
       "      <th>rating</th>\n",
       "      <th>review</th>\n",
       "    </tr>\n",
       "  </thead>\n",
       "  <tbody>\n",
       "    <tr>\n",
       "      <th>0</th>\n",
       "      <td>0_10.txt</td>\n",
       "      <td>1</td>\n",
       "      <td>I went and saw this movie last night after bei...</td>\n",
       "    </tr>\n",
       "    <tr>\n",
       "      <th>1</th>\n",
       "      <td>10000_7.txt</td>\n",
       "      <td>1</td>\n",
       "      <td>Actor turned director Bill Paxton follows up h...</td>\n",
       "    </tr>\n",
       "    <tr>\n",
       "      <th>2</th>\n",
       "      <td>10001_9.txt</td>\n",
       "      <td>1</td>\n",
       "      <td>As a recreational golfer with some knowledge o...</td>\n",
       "    </tr>\n",
       "    <tr>\n",
       "      <th>3</th>\n",
       "      <td>10002_8.txt</td>\n",
       "      <td>1</td>\n",
       "      <td>I saw this film in a sneak preview, and it is ...</td>\n",
       "    </tr>\n",
       "    <tr>\n",
       "      <th>4</th>\n",
       "      <td>10003_8.txt</td>\n",
       "      <td>1</td>\n",
       "      <td>Bill Paxton has taken the true story of the 19...</td>\n",
       "    </tr>\n",
       "  </tbody>\n",
       "</table>\n",
       "</div>"
      ],
      "text/plain": [
       "      filename  rating                                             review\n",
       "0     0_10.txt       1  I went and saw this movie last night after bei...\n",
       "1  10000_7.txt       1  Actor turned director Bill Paxton follows up h...\n",
       "2  10001_9.txt       1  As a recreational golfer with some knowledge o...\n",
       "3  10002_8.txt       1  I saw this film in a sneak preview, and it is ...\n",
       "4  10003_8.txt       1  Bill Paxton has taken the true story of the 19..."
      ]
     },
     "execution_count": 210,
     "metadata": {},
     "output_type": "execute_result"
    }
   ],
   "source": [
    "df2 = pd.read_pickle(path='./data/test_data_pkl.pickle')\n",
    "df2.head()"
   ]
  },
  {
   "cell_type": "code",
   "execution_count": 211,
   "metadata": {
    "scrolled": false
   },
   "outputs": [
    {
     "data": {
      "text/html": [
       "<div>\n",
       "<style scoped>\n",
       "    .dataframe tbody tr th:only-of-type {\n",
       "        vertical-align: middle;\n",
       "    }\n",
       "\n",
       "    .dataframe tbody tr th {\n",
       "        vertical-align: top;\n",
       "    }\n",
       "\n",
       "    .dataframe thead th {\n",
       "        text-align: right;\n",
       "    }\n",
       "</style>\n",
       "<table border=\"1\" class=\"dataframe\">\n",
       "  <thead>\n",
       "    <tr style=\"text-align: right;\">\n",
       "      <th></th>\n",
       "      <th>filename</th>\n",
       "      <th>rating</th>\n",
       "      <th>review</th>\n",
       "    </tr>\n",
       "  </thead>\n",
       "  <tbody>\n",
       "    <tr>\n",
       "      <th>0</th>\n",
       "      <td>0_9.txt</td>\n",
       "      <td>1</td>\n",
       "      <td>Bromwell High is a cartoon comedy. It ran at t...</td>\n",
       "    </tr>\n",
       "    <tr>\n",
       "      <th>1</th>\n",
       "      <td>10000_8.txt</td>\n",
       "      <td>1</td>\n",
       "      <td>Homelessness (or Houselessness as George Carli...</td>\n",
       "    </tr>\n",
       "    <tr>\n",
       "      <th>2</th>\n",
       "      <td>10001_10.txt</td>\n",
       "      <td>1</td>\n",
       "      <td>Brilliant over-acting by Lesley Ann Warren. Be...</td>\n",
       "    </tr>\n",
       "    <tr>\n",
       "      <th>3</th>\n",
       "      <td>10002_7.txt</td>\n",
       "      <td>1</td>\n",
       "      <td>This is easily the most underrated film inn th...</td>\n",
       "    </tr>\n",
       "    <tr>\n",
       "      <th>4</th>\n",
       "      <td>10003_8.txt</td>\n",
       "      <td>1</td>\n",
       "      <td>This is not the typical Mel Brooks film. It wa...</td>\n",
       "    </tr>\n",
       "  </tbody>\n",
       "</table>\n",
       "</div>"
      ],
      "text/plain": [
       "       filename  rating                                             review\n",
       "0       0_9.txt       1  Bromwell High is a cartoon comedy. It ran at t...\n",
       "1   10000_8.txt       1  Homelessness (or Houselessness as George Carli...\n",
       "2  10001_10.txt       1  Brilliant over-acting by Lesley Ann Warren. Be...\n",
       "3   10002_7.txt       1  This is easily the most underrated film inn th...\n",
       "4   10003_8.txt       1  This is not the typical Mel Brooks film. It wa..."
      ]
     },
     "execution_count": 211,
     "metadata": {},
     "output_type": "execute_result"
    }
   ],
   "source": [
    "import pandas as pd\n",
    "import numpy as np\n",
    "from string import punctuation\n",
    "from os import listdir\n",
    "from collections import Counter\n",
    "from nltk.corpus import stopwords\n",
    "import matplotlib\n",
    "\n",
    "df1= pd.read_pickle(\"./data/all_data_pkl.pickle\")\n",
    "df1.head()"
   ]
  },
  {
   "cell_type": "markdown",
   "metadata": {},
   "source": [
    "# Cleaning the Data\n",
    "\n",
    "The first thing we're going to do is load in the dataset and combine it and our next step is to clean the data. \n"
   ]
  },
  {
   "cell_type": "code",
   "execution_count": 212,
   "metadata": {},
   "outputs": [],
   "source": [
    "import string\n",
    "import re\n",
    "exclude = set(string.punctuation)"
   ]
  },
  {
   "cell_type": "markdown",
   "metadata": {},
   "source": [
    "The below function works to remove line breaks and as well as the other punctuation in the text"
   ]
  },
  {
   "cell_type": "code",
   "execution_count": 213,
   "metadata": {
    "scrolled": true
   },
   "outputs": [],
   "source": [
    "df_list=[]\n",
    "for i in df['review']:\n",
    "    for string in i:\n",
    "        i = i.strip('<br>')\n",
    "        i = i.strip('<br />')\n",
    "        i = i.strip().strip('\\n').strip('\\t')\n",
    "    i = ''.join(ch for ch in i if ch not in exclude)\n",
    "    i = i.lower()\n",
    "    i = re.split(r'\\W+', i)\n",
    "    df_list.append(i)\n",
    "# df_list"
   ]
  },
  {
   "cell_type": "code",
   "execution_count": 214,
   "metadata": {},
   "outputs": [],
   "source": [
    "# df_list"
   ]
  },
  {
   "cell_type": "code",
   "execution_count": 215,
   "metadata": {
    "scrolled": true
   },
   "outputs": [
    {
     "data": {
      "text/plain": [
       "50000"
      ]
     },
     "execution_count": 215,
     "metadata": {},
     "output_type": "execute_result"
    }
   ],
   "source": [
    "len(df_list)"
   ]
  },
  {
   "cell_type": "code",
   "execution_count": 8,
   "metadata": {
    "scrolled": true
   },
   "outputs": [],
   "source": [
    "# df_list[0]"
   ]
  },
  {
   "cell_type": "markdown",
   "metadata": {},
   "source": [
    "The Slides below get single instances of all the words in the file and puts them all onto a list. "
   ]
  },
  {
   "cell_type": "code",
   "execution_count": 9,
   "metadata": {},
   "outputs": [],
   "source": [
    "Cleaned_rev_test = []\n",
    "for j in df_list:\n",
    "    for i in j:\n",
    "        if i not in Cleaned_rev_test:\n",
    "            Cleaned_rev_test.append(i)"
   ]
  },
  {
   "cell_type": "code",
   "execution_count": 10,
   "metadata": {},
   "outputs": [
    {
     "data": {
      "text/plain": [
       "180449"
      ]
     },
     "execution_count": 10,
     "metadata": {},
     "output_type": "execute_result"
    }
   ],
   "source": [
    "len(Cleaned_rev_test)"
   ]
  },
  {
   "cell_type": "code",
   "execution_count": 11,
   "metadata": {},
   "outputs": [],
   "source": [
    "# Cleaned_rev_test"
   ]
  },
  {
   "cell_type": "markdown",
   "metadata": {},
   "source": [
    "Below we create a list for the film's ratings. "
   ]
  },
  {
   "cell_type": "code",
   "execution_count": 12,
   "metadata": {},
   "outputs": [],
   "source": [
    "rat = []\n",
    "for i in df['rating']:\n",
    "    rat.append(i)"
   ]
  },
  {
   "cell_type": "code",
   "execution_count": 13,
   "metadata": {},
   "outputs": [
    {
     "data": {
      "text/plain": [
       "50000"
      ]
     },
     "execution_count": 13,
     "metadata": {},
     "output_type": "execute_result"
    }
   ],
   "source": [
    "len(df_list)"
   ]
  },
  {
   "cell_type": "code",
   "execution_count": 14,
   "metadata": {},
   "outputs": [],
   "source": [
    "final_df = pd.DataFrame(\n",
    "{'review' : df_list,\n",
    " 'rating' : rat\n",
    "})"
   ]
  },
  {
   "cell_type": "code",
   "execution_count": 15,
   "metadata": {
    "scrolled": true
   },
   "outputs": [
    {
     "data": {
      "text/html": [
       "<div>\n",
       "<style scoped>\n",
       "    .dataframe tbody tr th:only-of-type {\n",
       "        vertical-align: middle;\n",
       "    }\n",
       "\n",
       "    .dataframe tbody tr th {\n",
       "        vertical-align: top;\n",
       "    }\n",
       "\n",
       "    .dataframe thead th {\n",
       "        text-align: right;\n",
       "    }\n",
       "</style>\n",
       "<table border=\"1\" class=\"dataframe\">\n",
       "  <thead>\n",
       "    <tr style=\"text-align: right;\">\n",
       "      <th></th>\n",
       "      <th>review</th>\n",
       "      <th>rating</th>\n",
       "    </tr>\n",
       "  </thead>\n",
       "  <tbody>\n",
       "    <tr>\n",
       "      <th>0</th>\n",
       "      <td>[bromwell, high, is, a, cartoon, comedy, it, r...</td>\n",
       "      <td>1</td>\n",
       "    </tr>\n",
       "    <tr>\n",
       "      <th>1</th>\n",
       "      <td>[homelessness, or, houselessness, as, george, ...</td>\n",
       "      <td>1</td>\n",
       "    </tr>\n",
       "    <tr>\n",
       "      <th>2</th>\n",
       "      <td>[brilliant, overacting, by, lesley, ann, warre...</td>\n",
       "      <td>1</td>\n",
       "    </tr>\n",
       "    <tr>\n",
       "      <th>3</th>\n",
       "      <td>[this, is, easily, the, most, underrated, film...</td>\n",
       "      <td>1</td>\n",
       "    </tr>\n",
       "    <tr>\n",
       "      <th>4</th>\n",
       "      <td>[this, is, not, the, typical, mel, brooks, fil...</td>\n",
       "      <td>1</td>\n",
       "    </tr>\n",
       "  </tbody>\n",
       "</table>\n",
       "</div>"
      ],
      "text/plain": [
       "                                              review  rating\n",
       "0  [bromwell, high, is, a, cartoon, comedy, it, r...       1\n",
       "1  [homelessness, or, houselessness, as, george, ...       1\n",
       "2  [brilliant, overacting, by, lesley, ann, warre...       1\n",
       "3  [this, is, easily, the, most, underrated, film...       1\n",
       "4  [this, is, not, the, typical, mel, brooks, fil...       1"
      ]
     },
     "execution_count": 15,
     "metadata": {},
     "output_type": "execute_result"
    }
   ],
   "source": [
    "final_df.head()"
   ]
  },
  {
   "cell_type": "code",
   "execution_count": 16,
   "metadata": {},
   "outputs": [],
   "source": [
    "final_df=final_df.reset_index()"
   ]
  },
  {
   "cell_type": "code",
   "execution_count": 19,
   "metadata": {},
   "outputs": [],
   "source": [
    "# final_df['review'][49999]"
   ]
  },
  {
   "cell_type": "code",
   "execution_count": 34,
   "metadata": {},
   "outputs": [],
   "source": [
    "\n",
    "\n",
    "stop_words = set(stopwords.words('english'))"
   ]
  },
  {
   "cell_type": "markdown",
   "metadata": {},
   "source": [
    "# Creating a Visualization"
   ]
  },
  {
   "cell_type": "code",
   "execution_count": 35,
   "metadata": {},
   "outputs": [],
   "source": [
    "from string import punctuation\n",
    "from os import listdir\n",
    "from collections import Counter\n",
    "from nltk.corpus import stopwords\n",
    "vocab = {}\n",
    "for i in final_df['review']:\n",
    "    for j in i: \n",
    "        if j not in vocab: \n",
    "            vocab[j]=1\n",
    "        else:\n",
    "            vocab[j]+1"
   ]
  },
  {
   "cell_type": "markdown",
   "metadata": {},
   "source": [
    "Here, we make a list that we can use to count all the terms within the entire dataset and then we can use counter to measure the most common words. "
   ]
  },
  {
   "cell_type": "code",
   "execution_count": 36,
   "metadata": {},
   "outputs": [],
   "source": [
    "list = []\n",
    "for i in final_df.review:\n",
    "    for j in i:\n",
    "        list.append(j)"
   ]
  },
  {
   "cell_type": "code",
   "execution_count": 37,
   "metadata": {},
   "outputs": [],
   "source": [
    "vocab = Counter(list)"
   ]
  },
  {
   "cell_type": "code",
   "execution_count": 38,
   "metadata": {},
   "outputs": [
    {
     "data": {
      "text/plain": [
       "[('the', 663876),\n",
       " ('and', 320725),\n",
       " ('a', 320555),\n",
       " ('of', 288384),\n",
       " ('to', 266781),\n",
       " ('is', 210176),\n",
       " ('in', 184877),\n",
       " ('it', 153048),\n",
       " ('i', 152189),\n",
       " ('this', 149418),\n",
       " ('that', 136130),\n",
       " ('br', 112429),\n",
       " ('was', 95228),\n",
       " ('as', 91239),\n",
       " ('with', 86852),\n",
       " ('for', 86730),\n",
       " ('movie', 83541),\n",
       " ('but', 81788),\n",
       " ('film', 74486),\n",
       " ('on', 66669)]"
      ]
     },
     "execution_count": 38,
     "metadata": {},
     "output_type": "execute_result"
    }
   ],
   "source": [
    "vocab.most_common(20)"
   ]
  },
  {
   "cell_type": "markdown",
   "metadata": {},
   "source": [
    "Well, this isn't really a helpful arrangement as it's mostly getting the filler words in the dataset. "
   ]
  },
  {
   "cell_type": "code",
   "execution_count": 39,
   "metadata": {},
   "outputs": [],
   "source": [
    "vocab = Counter(list)"
   ]
  },
  {
   "cell_type": "code",
   "execution_count": 40,
   "metadata": {},
   "outputs": [],
   "source": [
    "common = vocab.most_common(50)"
   ]
  },
  {
   "cell_type": "code",
   "execution_count": 41,
   "metadata": {},
   "outputs": [
    {
     "data": {
      "text/plain": [
       "180449"
      ]
     },
     "execution_count": 41,
     "metadata": {},
     "output_type": "execute_result"
    }
   ],
   "source": [
    "len(vocab)"
   ]
  },
  {
   "cell_type": "code",
   "execution_count": 42,
   "metadata": {},
   "outputs": [
    {
     "data": {
      "text/plain": [
       "('the', 663876)"
      ]
     },
     "execution_count": 42,
     "metadata": {},
     "output_type": "execute_result"
    }
   ],
   "source": [
    "common[0]"
   ]
  },
  {
   "cell_type": "code",
   "execution_count": 43,
   "metadata": {},
   "outputs": [
    {
     "data": {
      "text/plain": [
       "'the'"
      ]
     },
     "execution_count": 43,
     "metadata": {},
     "output_type": "execute_result"
    }
   ],
   "source": [
    "common[0][0]"
   ]
  },
  {
   "cell_type": "code",
   "execution_count": 44,
   "metadata": {
    "scrolled": true
   },
   "outputs": [],
   "source": [
    "word_list = []\n",
    "qty_list = []\n",
    "for i in range(0, len(common)):\n",
    "    word_list.append(common[i][0])\n",
    "    qty_list.append(common[i][1])\n",
    "# word_list"
   ]
  },
  {
   "cell_type": "code",
   "execution_count": 45,
   "metadata": {
    "scrolled": true
   },
   "outputs": [],
   "source": [
    "# qty_list"
   ]
  },
  {
   "cell_type": "code",
   "execution_count": 49,
   "metadata": {},
   "outputs": [
    {
     "data": {
      "text/plain": [
       "Text(0.5, 1.0, 'Most Common Words')"
      ]
     },
     "execution_count": 49,
     "metadata": {},
     "output_type": "execute_result"
    },
    {
     "data": {
      "image/png": "[encoded data removed]",
      "text/plain": [
       "<Figure size 1440x720 with 1 Axes>"
      ]
     },
     "metadata": {
      "needs_background": "light"
     },
     "output_type": "display_data"
    }
   ],
   "source": [
    "y_pos = np.arange(len(word_list))\n",
    "plt.figure(figsize=(20,10))\n",
    "plt.bar(y_pos, qty_list, align='center', alpha=0.5, color='r')\n",
    "plt.xticks(fontsize=18, rotation=90)\n",
    "plt.xticks(y_pos, word_list)\n",
    "plt.ylabel('Frequency')\n",
    "plt.title('Most Common Words')"
   ]
  },
  {
   "cell_type": "markdown",
   "metadata": {},
   "source": [
    "Plotting it out also provides little context and value as it's mostly relating to different stop words in the set. "
   ]
  },
  {
   "cell_type": "code",
   "execution_count": null,
   "metadata": {},
   "outputs": [],
   "source": []
  },
  {
   "cell_type": "code",
   "execution_count": 50,
   "metadata": {},
   "outputs": [
    {
     "data": {
      "text/plain": [
       "180449"
      ]
     },
     "execution_count": 50,
     "metadata": {},
     "output_type": "execute_result"
    }
   ],
   "source": [
    "len(vocab)"
   ]
  },
  {
   "cell_type": "code",
   "execution_count": 51,
   "metadata": {},
   "outputs": [
    {
     "name": "stdout",
     "output_type": "stream",
     "text": [
      "45561\n"
     ]
    }
   ],
   "source": [
    "min_occurance = 5\n",
    "tokens = [k for k,c in vocab.items() if c >= min_occurance]\n",
    "print(len(tokens))"
   ]
  },
  {
   "cell_type": "code",
   "execution_count": 52,
   "metadata": {},
   "outputs": [],
   "source": [
    "def save_list(lines, filename):\n",
    "    data = '\\n'.join(lines)\n",
    "    file = open(filename, 'w')\n",
    "    file.write(data)\n",
    "    file.close()"
   ]
  },
  {
   "cell_type": "code",
   "execution_count": 53,
   "metadata": {},
   "outputs": [],
   "source": [
    "save_list(tokens, 'tokens.txt')"
   ]
  },
  {
   "cell_type": "code",
   "execution_count": 54,
   "metadata": {},
   "outputs": [],
   "source": [
    "def load_doc(filename):\n",
    "    # open the file as read only\n",
    "    file = open(filename, 'r')\n",
    "    # read all text\n",
    "    text = file.read()\n",
    "    # close the file\n",
    "    file.close()\n",
    "    return text\n",
    " \n",
    "# load vocabulary\n",
    "vocab_filename = 'data/vocabulary.txt'\n",
    "vocab = load_doc(vocab_filename)\n",
    "vocab = vocab.split()\n",
    "vocab = set(vocab)"
   ]
  },
  {
   "cell_type": "markdown",
   "metadata": {},
   "source": [
    "We're saving and loading our documents here for later use. "
   ]
  },
  {
   "cell_type": "code",
   "execution_count": 55,
   "metadata": {},
   "outputs": [],
   "source": [
    "# tokens"
   ]
  },
  {
   "cell_type": "markdown",
   "metadata": {},
   "source": [
    "Now that we have our dataset cleaned and have done some basic exploration, we can start on teh modeling. "
   ]
  },
  {
   "cell_type": "markdown",
   "metadata": {},
   "source": [
    "# Developing our Model "
   ]
  },
  {
   "cell_type": "code",
   "execution_count": 56,
   "metadata": {},
   "outputs": [
    {
     "name": "stderr",
     "output_type": "stream",
     "text": [
      "Using TensorFlow backend.\n"
     ]
    }
   ],
   "source": [
    "from keras.preprocessing.sequence import pad_sequences\n",
    "from keras.layers import Input, Dense, LSTM, Embedding\n",
    "from keras.layers import Dropout, Activation, Bidirectional, GlobalMaxPool1D\n",
    "from keras.models import Model\n",
    "from keras import initializers, regularizers, constraints, optimizers, layers\n",
    "from keras.preprocessing import text, sequence"
   ]
  },
  {
   "cell_type": "code",
   "execution_count": 57,
   "metadata": {},
   "outputs": [],
   "source": [
    "target = final_df.rating"
   ]
  },
  {
   "cell_type": "code",
   "execution_count": 58,
   "metadata": {},
   "outputs": [],
   "source": [
    "y = pd.get_dummies(target).values"
   ]
  },
  {
   "cell_type": "code",
   "execution_count": 59,
   "metadata": {},
   "outputs": [],
   "source": [
    "review = final_df.review"
   ]
  },
  {
   "cell_type": "code",
   "execution_count": 60,
   "metadata": {},
   "outputs": [],
   "source": [
    "tokenizer = text.Tokenizer(num_words=20000)\n",
    "tokenizer.fit_on_texts((review))\n",
    "list_tokenized_headlines = tokenizer.texts_to_sequences(review)\n",
    "X_t = sequence.pad_sequences(list_tokenized_headlines, maxlen=100)"
   ]
  },
  {
   "cell_type": "code",
   "execution_count": 61,
   "metadata": {},
   "outputs": [],
   "source": [
    "embedding_size = 128\n",
    "input_ = Input(shape=(100,))\n",
    "x = Embedding(20000, embedding_size)(input_)\n",
    "x = LSTM(25, return_sequences=True)(x)\n",
    "x = GlobalMaxPool1D()(x)\n",
    "x = Dropout(0.5)(x)\n",
    "x = Dense(50, activation='relu')(x)\n",
    "x = Dropout(0.5)(x)\n",
    "# There are 2 different possible classes, so we use 2 neurons in our output layer\n",
    "x = Dense(2, activation='softmax')(x)\n",
    "\n",
    "model = Model(inputs=input_, outputs=x)"
   ]
  },
  {
   "cell_type": "code",
   "execution_count": 62,
   "metadata": {},
   "outputs": [],
   "source": [
    "model.compile(loss='categorical_crossentropy', optimizer='adam', metrics=['accuracy'])"
   ]
  },
  {
   "cell_type": "code",
   "execution_count": 63,
   "metadata": {},
   "outputs": [
    {
     "name": "stdout",
     "output_type": "stream",
     "text": [
      "_________________________________________________________________\n",
      "Layer (type)                 Output Shape              Param #   \n",
      "=================================================================\n",
      "input_1 (InputLayer)         (None, 100)               0         \n",
      "_________________________________________________________________\n",
      "embedding_1 (Embedding)      (None, 100, 128)          2560000   \n",
      "_________________________________________________________________\n",
      "lstm_1 (LSTM)                (None, 100, 25)           15400     \n",
      "_________________________________________________________________\n",
      "global_max_pooling1d_1 (Glob (None, 25)                0         \n",
      "_________________________________________________________________\n",
      "dropout_1 (Dropout)          (None, 25)                0         \n",
      "_________________________________________________________________\n",
      "dense_1 (Dense)              (None, 50)                1300      \n",
      "_________________________________________________________________\n",
      "dropout_2 (Dropout)          (None, 50)                0         \n",
      "_________________________________________________________________\n",
      "dense_2 (Dense)              (None, 2)                 102       \n",
      "=================================================================\n",
      "Total params: 2,576,802\n",
      "Trainable params: 2,576,802\n",
      "Non-trainable params: 0\n",
      "_________________________________________________________________\n"
     ]
    }
   ],
   "source": [
    "model.summary()"
   ]
  },
  {
   "cell_type": "markdown",
   "metadata": {},
   "source": [
    "Now that we have a model, we can try to fit in and see how well our model performs. "
   ]
  },
  {
   "cell_type": "code",
   "execution_count": 64,
   "metadata": {},
   "outputs": [
    {
     "name": "stdout",
     "output_type": "stream",
     "text": [
      "Train on 25000 samples, validate on 25000 samples\n",
      "Epoch 1/2\n",
      "25000/25000 [==============================] - 58s 2ms/step - loss: 0.4890 - acc: 0.7551 - val_loss: 0.3599 - val_acc: 0.8375\n",
      "Epoch 2/2\n",
      "25000/25000 [==============================] - 55s 2ms/step - loss: 0.2862 - acc: 0.8893 - val_loss: 0.3876 - val_acc: 0.8387\n"
     ]
    },
    {
     "data": {
      "text/plain": [
       "<keras.callbacks.History at 0x254262e1b70>"
      ]
     },
     "execution_count": 64,
     "metadata": {},
     "output_type": "execute_result"
    }
   ],
   "source": [
    "model.fit(X_t, y, epochs=2, batch_size=32, validation_split=0.5)"
   ]
  },
  {
   "cell_type": "markdown",
   "metadata": {},
   "source": [
    "It appears that running it for two epochs has a 90% accuracy. Not bad, not bad at all. But, let's see what happens when we run more. "
   ]
  },
  {
   "cell_type": "code",
   "execution_count": 65,
   "metadata": {
    "scrolled": true
   },
   "outputs": [
    {
     "name": "stdout",
     "output_type": "stream",
     "text": [
      "Train on 25000 samples, validate on 25000 samples\n",
      "Epoch 1/10\n",
      "25000/25000 [==============================] - 55s 2ms/step - loss: 0.1904 - acc: 0.9285 - val_loss: 0.4632 - val_acc: 0.8256\n",
      "Epoch 2/10\n",
      "25000/25000 [==============================] - 56s 2ms/step - loss: 0.1257 - acc: 0.9560 - val_loss: 0.4986 - val_acc: 0.8171\n",
      "Epoch 3/10\n",
      "25000/25000 [==============================] - 57s 2ms/step - loss: 0.0897 - acc: 0.9697 - val_loss: 0.7001 - val_acc: 0.8117\n",
      "Epoch 4/10\n",
      "25000/25000 [==============================] - 58s 2ms/step - loss: 0.0621 - acc: 0.9792 - val_loss: 0.8157 - val_acc: 0.8165\n",
      "Epoch 5/10\n",
      "25000/25000 [==============================] - 58s 2ms/step - loss: 0.0537 - acc: 0.9832 - val_loss: 0.8969 - val_acc: 0.8077\n",
      "Epoch 6/10\n",
      "25000/25000 [==============================] - 58s 2ms/step - loss: 0.0371 - acc: 0.9884 - val_loss: 1.0119 - val_acc: 0.8020\n",
      "Epoch 7/10\n",
      "25000/25000 [==============================] - 58s 2ms/step - loss: 0.0326 - acc: 0.9895 - val_loss: 0.9639 - val_acc: 0.8050\n",
      "Epoch 8/10\n",
      "25000/25000 [==============================] - 58s 2ms/step - loss: 0.0262 - acc: 0.9924 - val_loss: 1.1694 - val_acc: 0.8033\n",
      "Epoch 9/10\n",
      "25000/25000 [==============================] - 58s 2ms/step - loss: 0.0291 - acc: 0.9916 - val_loss: 1.1444 - val_acc: 0.8026\n",
      "Epoch 10/10\n",
      "25000/25000 [==============================] - 59s 2ms/step - loss: 0.0273 - acc: 0.9912 - val_loss: 1.1509 - val_acc: 0.8052\n"
     ]
    },
    {
     "data": {
      "text/plain": [
       "<keras.callbacks.History at 0x25429205550>"
      ]
     },
     "execution_count": 65,
     "metadata": {},
     "output_type": "execute_result"
    }
   ],
   "source": [
    "model.fit(X_t, y, epochs=10, batch_size=32, validation_split=0.5)"
   ]
  },
  {
   "cell_type": "code",
   "execution_count": 66,
   "metadata": {
    "scrolled": true
   },
   "outputs": [
    {
     "name": "stdout",
     "output_type": "stream",
     "text": [
      "Train on 25000 samples, validate on 25000 samples\n",
      "Epoch 1/20\n",
      "25000/25000 [==============================] - 58s 2ms/step - loss: 0.0193 - acc: 0.9940 - val_loss: 1.1798 - val_acc: 0.8060\n",
      "Epoch 2/20\n",
      "25000/25000 [==============================] - 58s 2ms/step - loss: 0.0143 - acc: 0.9960 - val_loss: 1.2847 - val_acc: 0.8058\n",
      "Epoch 3/20\n",
      "25000/25000 [==============================] - 59s 2ms/step - loss: 0.0227 - acc: 0.9932 - val_loss: 1.4177 - val_acc: 0.8004\n",
      "Epoch 4/20\n",
      "25000/25000 [==============================] - 61s 2ms/step - loss: 0.0119 - acc: 0.9962 - val_loss: 1.5911 - val_acc: 0.7956\n",
      "Epoch 5/20\n",
      "25000/25000 [==============================] - 61s 2ms/step - loss: 0.0107 - acc: 0.9969 - val_loss: 1.6615 - val_acc: 0.8016\n",
      "Epoch 6/20\n",
      "25000/25000 [==============================] - 62s 2ms/step - loss: 0.0137 - acc: 0.9961 - val_loss: 1.6057 - val_acc: 0.7977\n",
      "Epoch 7/20\n",
      "25000/25000 [==============================] - 61s 2ms/step - loss: 0.0114 - acc: 0.9968 - val_loss: 1.4423 - val_acc: 0.8007\n",
      "Epoch 8/20\n",
      "25000/25000 [==============================] - 61s 2ms/step - loss: 0.0119 - acc: 0.9969 - val_loss: 1.5857 - val_acc: 0.8010\n",
      "Epoch 9/20\n",
      "25000/25000 [==============================] - 61s 2ms/step - loss: 0.0091 - acc: 0.9971 - val_loss: 1.6245 - val_acc: 0.7987\n",
      "Epoch 10/20\n",
      "25000/25000 [==============================] - 61s 2ms/step - loss: 0.0164 - acc: 0.9953 - val_loss: 1.5326 - val_acc: 0.7927\n",
      "Epoch 11/20\n",
      "25000/25000 [==============================] - 61s 2ms/step - loss: 0.0118 - acc: 0.9970 - val_loss: 1.4648 - val_acc: 0.7991\n",
      "Epoch 12/20\n",
      "25000/25000 [==============================] - 61s 2ms/step - loss: 0.0078 - acc: 0.9982 - val_loss: 1.4924 - val_acc: 0.7959\n",
      "Epoch 13/20\n",
      "25000/25000 [==============================] - 61s 2ms/step - loss: 0.0050 - acc: 0.9989 - val_loss: 1.8167 - val_acc: 0.7974\n",
      "Epoch 14/20\n",
      "25000/25000 [==============================] - 61s 2ms/step - loss: 0.0099 - acc: 0.9970 - val_loss: 1.7653 - val_acc: 0.7960\n",
      "Epoch 15/20\n",
      "25000/25000 [==============================] - 61s 2ms/step - loss: 0.0051 - acc: 0.9984 - val_loss: 1.8342 - val_acc: 0.8007\n",
      "Epoch 16/20\n",
      "25000/25000 [==============================] - 61s 2ms/step - loss: 0.0097 - acc: 0.9976 - val_loss: 1.6932 - val_acc: 0.7949\n",
      "Epoch 17/20\n",
      "25000/25000 [==============================] - 61s 2ms/step - loss: 0.0080 - acc: 0.9982 - val_loss: 1.8385 - val_acc: 0.7999\n",
      "Epoch 18/20\n",
      "25000/25000 [==============================] - 61s 2ms/step - loss: 0.0087 - acc: 0.9974 - val_loss: 1.9404 - val_acc: 0.7966\n",
      "Epoch 19/20\n",
      "25000/25000 [==============================] - 61s 2ms/step - loss: 0.0062 - acc: 0.9979 - val_loss: 1.6481 - val_acc: 0.7959\n",
      "Epoch 20/20\n",
      "25000/25000 [==============================] - 61s 2ms/step - loss: 0.0067 - acc: 0.9982 - val_loss: 1.5979 - val_acc: 0.7970\n"
     ]
    },
    {
     "data": {
      "text/plain": [
       "<keras.callbacks.History at 0x25429206630>"
      ]
     },
     "execution_count": 66,
     "metadata": {},
     "output_type": "execute_result"
    }
   ],
   "source": [
    "model.fit(X_t, y, epochs=20, batch_size=32, validation_split=0.5)"
   ]
  },
  {
   "cell_type": "markdown",
   "metadata": {},
   "source": [
    "Validation accuracy appears to decrease in both instances. "
   ]
  },
  {
   "cell_type": "markdown",
   "metadata": {},
   "source": [
    "Well, that's not terribly helpful, let's try to run a gridsearch to see if we can optimize for acccuracy. "
   ]
  },
  {
   "cell_type": "markdown",
   "metadata": {},
   "source": [
    "# Running a Grid Search"
   ]
  },
  {
   "cell_type": "code",
   "execution_count": 67,
   "metadata": {},
   "outputs": [],
   "source": [
    "import numpy\n",
    "from sklearn.model_selection import GridSearchCV\n",
    "from keras.models import Sequential\n",
    "from keras.layers import LSTM, GRU, Dense, GlobalMaxPool1D, Embedding, Dropout\n",
    "from keras.wrappers.scikit_learn import KerasClassifier"
   ]
  },
  {
   "cell_type": "code",
   "execution_count": 68,
   "metadata": {},
   "outputs": [],
   "source": [
    "from keras.preprocessing.sequence import pad_sequences\n",
    "from keras.layers import Input, Dense, LSTM, Embedding\n",
    "from keras.layers import Dropout, Activation, Bidirectional, GlobalMaxPool1D\n",
    "from keras.models import Model\n",
    "from keras import initializers, regularizers, constraints, optimizers, layers\n",
    "from keras.preprocessing import text, sequence\n",
    "from keras.layers.convolutional import Conv1D\n",
    "from keras.layers.convolutional import MaxPooling1D\n",
    "from keras.layers import Flatten\n",
    "from keras.layers.embeddings import Embedding\n",
    "from keras.preprocessing import sequence\n",
    "from sklearn.model_selection import cross_val_score"
   ]
  },
  {
   "cell_type": "code",
   "execution_count": null,
   "metadata": {},
   "outputs": [],
   "source": [
    "model = Model(inputs=input_, outputs=x)"
   ]
  },
  {
   "cell_type": "code",
   "execution_count": 69,
   "metadata": {},
   "outputs": [],
   "source": [
    "def create_model():\n",
    "    model2 = Sequential()\n",
    "    model2.add(Embedding(20000, 128))\n",
    "    model2.add(LSTM(25, return_sequences=True))\n",
    "    model2.add(GlobalMaxPool1D())\n",
    "    model2.add(Dropout(.5))\n",
    "    model2.add(Dense(50, activation='relu'))\n",
    "    model2.add(Dropout(.5))\n",
    "    model2.add(Dense(20, activation='softmax'))\n",
    "    model2.compile(loss='binary_crossentropy', optimizer='adam', metrics=['accuracy'])\n",
    "    return model"
   ]
  },
  {
   "cell_type": "code",
   "execution_count": 70,
   "metadata": {},
   "outputs": [],
   "source": [
    "model2 = KerasClassifier(build_fn=create_model, verbose=0)\n",
    "batch_size = [32,64,128,256]\n",
    "epochs = [1,2,3,4,5]"
   ]
  },
  {
   "cell_type": "code",
   "execution_count": 71,
   "metadata": {},
   "outputs": [
    {
     "name": "stderr",
     "output_type": "stream",
     "text": [
      "C:\\Users\\xxtur\\Anaconda3\\lib\\site-packages\\sklearn\\model_selection\\_split.py:2053: FutureWarning: You should specify a value for 'cv' instead of relying on the default value. The default value will change from 3 to 5 in version 0.22.\n",
      "  warnings.warn(CV_WARNING, FutureWarning)\n",
      "C:\\Users\\xxtur\\Anaconda3\\lib\\site-packages\\sklearn\\externals\\joblib\\externals\\loky\\process_executor.py:706: UserWarning: A worker stopped while some jobs were given to the executor. This can be caused by a too short worker timeout or by a memory leak.\n",
      "  \"timeout or by a memory leak.\", UserWarning\n"
     ]
    }
   ],
   "source": [
    "param_grid = dict(batch_size=batch_size, epochs=epochs)\n",
    "grid = GridSearchCV(estimator=model2, param_grid=param_grid, n_jobs=-1)\n",
    "grid_result = grid.fit(X_t, y)"
   ]
  },
  {
   "cell_type": "code",
   "execution_count": 72,
   "metadata": {},
   "outputs": [
    {
     "name": "stdout",
     "output_type": "stream",
     "text": [
      "Best: 0.969800 using {'batch_size': 256, 'epochs': 1}\n",
      "0.880640 (0.067602) with: {'batch_size': 32, 'epochs': 1}\n",
      "0.860160 (0.072476) with: {'batch_size': 32, 'epochs': 2}\n",
      "0.857300 (0.097875) with: {'batch_size': 32, 'epochs': 3}\n",
      "0.859040 (0.063714) with: {'batch_size': 32, 'epochs': 4}\n",
      "0.846300 (0.078907) with: {'batch_size': 32, 'epochs': 5}\n",
      "0.916120 (0.048999) with: {'batch_size': 64, 'epochs': 1}\n",
      "0.889840 (0.095213) with: {'batch_size': 64, 'epochs': 2}\n",
      "0.873420 (0.115763) with: {'batch_size': 64, 'epochs': 3}\n",
      "0.868900 (0.094590) with: {'batch_size': 64, 'epochs': 4}\n",
      "0.914900 (0.035005) with: {'batch_size': 64, 'epochs': 5}\n",
      "0.927480 (0.041306) with: {'batch_size': 128, 'epochs': 1}\n",
      "0.928940 (0.042277) with: {'batch_size': 128, 'epochs': 2}\n",
      "0.886460 (0.063648) with: {'batch_size': 128, 'epochs': 3}\n",
      "0.924380 (0.046437) with: {'batch_size': 128, 'epochs': 4}\n",
      "0.851440 (0.090744) with: {'batch_size': 128, 'epochs': 5}\n",
      "0.969800 (0.016685) with: {'batch_size': 256, 'epochs': 1}\n",
      "0.872940 (0.098613) with: {'batch_size': 256, 'epochs': 2}\n",
      "0.886920 (0.074304) with: {'batch_size': 256, 'epochs': 3}\n",
      "0.933880 (0.046451) with: {'batch_size': 256, 'epochs': 4}\n",
      "0.923480 (0.045198) with: {'batch_size': 256, 'epochs': 5}\n"
     ]
    }
   ],
   "source": [
    "print(\"Best: %f using %s\" % (grid_result.best_score_, grid_result.best_params_))\n",
    "means = grid_result.cv_results_['mean_test_score']\n",
    "stds = grid_result.cv_results_['std_test_score']\n",
    "params = grid_result.cv_results_['params']\n",
    "for mean, stdev, param in zip(means, stds, params):\n",
    "    print(\"%f (%f) with: %r\" % (mean, stdev, param))"
   ]
  },
  {
   "cell_type": "markdown",
   "metadata": {},
   "source": [
    "Our results suggest that the ideal batch size is 256, and the best number of epochs for this is 5. Now we can make our model again with these parameters in mind and see hour our model performs"
   ]
  },
  {
   "cell_type": "markdown",
   "metadata": {},
   "source": [
    "# Developing our Final Model"
   ]
  },
  {
   "cell_type": "code",
   "execution_count": 101,
   "metadata": {},
   "outputs": [],
   "source": [
    "from sklearn.model_selection import train_test_split\n",
    "X_train, X_test, y_train, y_test = train_test_split(X_t,y, test_size=.25)        "
   ]
  },
  {
   "cell_type": "code",
   "execution_count": 102,
   "metadata": {},
   "outputs": [
    {
     "name": "stdout",
     "output_type": "stream",
     "text": [
      "Train on 25000 samples, validate on 25000 samples\n",
      "Epoch 1/5\n",
      "25000/25000 [==============================] - 14s 571us/step - loss: 0.0014 - acc: 0.9996 - val_loss: 0.8511 - val_acc: 0.8715\n",
      "Epoch 2/5\n",
      "25000/25000 [==============================] - 14s 576us/step - loss: 8.2281e-04 - acc: 0.9999 - val_loss: 0.9094 - val_acc: 0.8702\n",
      "Epoch 3/5\n",
      "25000/25000 [==============================] - 14s 570us/step - loss: 9.5445e-04 - acc: 0.9998 - val_loss: 0.9187 - val_acc: 0.8706\n",
      "Epoch 4/5\n",
      "25000/25000 [==============================] - 15s 586us/step - loss: 0.0011 - acc: 0.9998 - val_loss: 0.9254 - val_acc: 0.8704\n",
      "Epoch 5/5\n",
      "25000/25000 [==============================] - 16s 630us/step - loss: 0.0012 - acc: 0.9998 - val_loss: 0.9798 - val_acc: 0.8687\n"
     ]
    },
    {
     "data": {
      "text/plain": [
       "<keras.callbacks.History at 0x2542866d518>"
      ]
     },
     "execution_count": 102,
     "metadata": {},
     "output_type": "execute_result"
    }
   ],
   "source": [
    "def create_model():\n",
    "    model2 = Sequential()\n",
    "    model2.add(Embedding(20000, 128))\n",
    "    model2.add(LSTM(25, return_sequences=True))\n",
    "    model2.add(GlobalMaxPool1D())\n",
    "    model2.add(Dropout(.5))\n",
    "    model2.add(Dense(50, activation='relu'))\n",
    "    model2.add(Dropout(.5))\n",
    "    model2.add(Dense(20, activation='softmax'))\n",
    "    model2.compile(loss='binary_crossentropy', optimizer='adam', metrics=['accuracy'])\n",
    "    return model\n",
    "model2=create_model()\n",
    "model2.fit(X_t, y, epochs=5, batch_size=256, validation_split=0.5)"
   ]
  },
  {
   "cell_type": "markdown",
   "metadata": {},
   "source": [
    "Well, hey, this is a pretty decent performance on the model. 87% accuracy is a pretty good state to be in on the training set.\n",
    "Validation accuracy continues to decrease slightly, and thatt might be indicating that some overfitting is going on so upon later reviews, let's see our performance in the test set to assess the correctness of our assumption. "
   ]
  },
  {
   "cell_type": "code",
   "execution_count": 105,
   "metadata": {},
   "outputs": [],
   "source": [
    "from sklearn.metrics import accuracy_score, confusion_matrix, classification_report\n",
    "\n",
    "def show_cf(y_true, y_pred, class_names=None, model_name=None):\n",
    "    cf = confusion_matrix(y_true, y_pred)\n",
    "    plt.imshow(cf, cmap=plt.cm.Blues)\n",
    "    \n",
    "    if model_name:\n",
    "        plt.title(\"Confusion Matrix: {}\".format(model_name))\n",
    "    else:\n",
    "        plt.title(\"Confusion Matrix\")\n",
    "    plt.ylabel('True Label')\n",
    "    plt.xlabel('Predicted Label')\n",
    "    \n",
    "    class_names = set(y_true)\n",
    "    tick_marks = np.arange(len(class_names))\n",
    "    if class_names:\n",
    "        plt.xticks(tick_marks, class_names)\n",
    "        plt.yticks(tick_marks, class_names)\n",
    "    \n",
    "    thresh = cf.max() / 2.\n",
    "    \n",
    "    for i, j in itertools.product(range(cf.shape[0]), range(cf.shape[1])):\n",
    "        plt.text(j, i, cf[i, j], horizontalalignment='center', color='white' if cf[i, j] > thresh else 'black')\n",
    "\n",
    "    plt.colorbar()"
   ]
  },
  {
   "cell_type": "code",
   "execution_count": 106,
   "metadata": {},
   "outputs": [],
   "source": [
    "preds = model2.predict(X_test)"
   ]
  },
  {
   "cell_type": "code",
   "execution_count": 121,
   "metadata": {},
   "outputs": [],
   "source": [
    "pred = []\n",
    "for i in preds:\n",
    "#     print(i)\n",
    "    if i[0] < .5:\n",
    "        i=0\n",
    "        pred.append(i)\n",
    "    else:\n",
    "        i=1\n",
    "        pred.append(i)"
   ]
  },
  {
   "cell_type": "code",
   "execution_count": 122,
   "metadata": {},
   "outputs": [],
   "source": [
    "y_test_res = []\n",
    "for i in y_test:\n",
    "    y_test_res.append(i[0])"
   ]
  },
  {
   "cell_type": "code",
   "execution_count": 118,
   "metadata": {},
   "outputs": [],
   "source": [
    "import numpy as np\n",
    "import matplotlib.pyplot as plt\n",
    "import itertools"
   ]
  },
  {
   "cell_type": "code",
   "execution_count": 119,
   "metadata": {},
   "outputs": [],
   "source": [
    "pred = np.asarray(pred, dtype=np.float32)"
   ]
  },
  {
   "cell_type": "code",
   "execution_count": 123,
   "metadata": {
    "scrolled": true
   },
   "outputs": [
    {
     "data": {
      "image/png": "[encoded data removed]",
      "text/plain": [
       "<Figure size 432x288 with 2 Axes>"
      ]
     },
     "metadata": {
      "needs_background": "light"
     },
     "output_type": "display_data"
    }
   ],
   "source": [
    "show_cf(y_test_res, pred)"
   ]
  },
  {
   "cell_type": "code",
   "execution_count": 125,
   "metadata": {},
   "outputs": [
    {
     "data": {
      "text/plain": [
       "0.9356"
      ]
     },
     "execution_count": 125,
     "metadata": {},
     "output_type": "execute_result"
    }
   ],
   "source": [
    "from sklearn.metrics import accuracy_score, confusion_matrix, classification_report\n",
    "\n",
    "accuracy_score(y_test_res,pred)"
   ]
  },
  {
   "cell_type": "code",
   "execution_count": 129,
   "metadata": {},
   "outputs": [
    {
     "name": "stdout",
     "output_type": "stream",
     "text": [
      "              precision    recall  f1-score   support\n",
      "\n",
      "           0       0.94      0.94      0.94      6287\n",
      "           1       0.94      0.93      0.94      6213\n",
      "\n",
      "   micro avg       0.94      0.94      0.94     12500\n",
      "   macro avg       0.94      0.94      0.94     12500\n",
      "weighted avg       0.94      0.94      0.94     12500\n",
      "\n"
     ]
    }
   ],
   "source": [
    "print(classification_report(pred, y_test_res))"
   ]
  },
  {
   "cell_type": "markdown",
   "metadata": {},
   "source": [
    "Now, let's do a little more exploration and understanding of our data. "
   ]
  },
  {
   "cell_type": "markdown",
   "metadata": {},
   "source": [
    "# Creating Some Visualizations"
   ]
  },
  {
   "cell_type": "code",
   "execution_count": 130,
   "metadata": {},
   "outputs": [],
   "source": [
    "stop_words = set(stopwords.words('english'))"
   ]
  },
  {
   "cell_type": "markdown",
   "metadata": {},
   "source": [
    "We can now drop our stopwords and then see how things improve. "
   ]
  },
  {
   "cell_type": "code",
   "execution_count": 131,
   "metadata": {},
   "outputs": [],
   "source": [
    "from string import punctuation\n",
    "from os import listdir\n",
    "from collections import Counter\n",
    "from nltk.corpus import stopwords\n",
    "vocab = {}\n",
    "for i in final_df['review']:\n",
    "    for j in i: \n",
    "        if j not in vocab: \n",
    "            vocab[j]=1\n",
    "        else:\n",
    "            vocab[j]+1"
   ]
  },
  {
   "cell_type": "code",
   "execution_count": 132,
   "metadata": {},
   "outputs": [],
   "source": [
    "list = []\n",
    "for i in final_df.review:\n",
    "    for j in i:\n",
    "        list.append(j)"
   ]
  },
  {
   "cell_type": "code",
   "execution_count": 133,
   "metadata": {},
   "outputs": [],
   "source": [
    "list = [w for w in list if not w in stop_words]\n",
    "# filter out short tokens\n",
    "list = [word for word in list if len(word) > 2]\n"
   ]
  },
  {
   "cell_type": "markdown",
   "metadata": {},
   "source": [
    "The line of code above gets rid of all words that are shorter than 3 letters and removes all stopwords from the dataset"
   ]
  },
  {
   "cell_type": "code",
   "execution_count": 134,
   "metadata": {},
   "outputs": [],
   "source": [
    "vocab = Counter(list)"
   ]
  },
  {
   "cell_type": "code",
   "execution_count": 135,
   "metadata": {},
   "outputs": [],
   "source": [
    "common = vocab.most_common(50)"
   ]
  },
  {
   "cell_type": "code",
   "execution_count": 136,
   "metadata": {},
   "outputs": [
    {
     "data": {
      "text/plain": [
       "179531"
      ]
     },
     "execution_count": 136,
     "metadata": {},
     "output_type": "execute_result"
    }
   ],
   "source": [
    "len(vocab)"
   ]
  },
  {
   "cell_type": "code",
   "execution_count": 137,
   "metadata": {},
   "outputs": [
    {
     "data": {
      "text/plain": [
       "('movie', 83541)"
      ]
     },
     "execution_count": 137,
     "metadata": {},
     "output_type": "execute_result"
    }
   ],
   "source": [
    "common[0]"
   ]
  },
  {
   "cell_type": "code",
   "execution_count": 138,
   "metadata": {},
   "outputs": [
    {
     "data": {
      "text/plain": [
       "'movie'"
      ]
     },
     "execution_count": 138,
     "metadata": {},
     "output_type": "execute_result"
    }
   ],
   "source": [
    "common[0][0]"
   ]
  },
  {
   "cell_type": "markdown",
   "metadata": {},
   "source": [
    "Now that we've removed our text we can see below that the terms have much more to do with films and relevant to our actual understanding of the data."
   ]
  },
  {
   "cell_type": "code",
   "execution_count": 141,
   "metadata": {
    "scrolled": true
   },
   "outputs": [
    {
     "data": {
      "text/plain": [
       "['movie',\n",
       " 'film',\n",
       " 'one',\n",
       " 'like',\n",
       " 'good',\n",
       " 'even',\n",
       " 'would',\n",
       " 'time',\n",
       " 'really',\n",
       " 'see',\n",
       " 'story',\n",
       " 'much',\n",
       " 'well',\n",
       " 'get',\n",
       " 'great',\n",
       " 'also',\n",
       " 'bad',\n",
       " 'people',\n",
       " 'first',\n",
       " 'dont']"
      ]
     },
     "execution_count": 141,
     "metadata": {},
     "output_type": "execute_result"
    }
   ],
   "source": [
    "word_list = []\n",
    "qty_list = []\n",
    "for i in range(0, len(common)):\n",
    "    word_list.append(common[i][0])\n",
    "    qty_list.append(common[i][1])\n",
    "word_list[:20]"
   ]
  },
  {
   "cell_type": "code",
   "execution_count": 143,
   "metadata": {
    "scrolled": false
   },
   "outputs": [
    {
     "data": {
      "text/plain": [
       "Text(0.5, 1.0, 'Most Common Words')"
      ]
     },
     "execution_count": 143,
     "metadata": {},
     "output_type": "execute_result"
    },
    {
     "data": {
      "image/png": "[encoded data removed]",
      "text/plain": [
       "<Figure size 1440x720 with 1 Axes>"
      ]
     },
     "metadata": {
      "needs_background": "light"
     },
     "output_type": "display_data"
    }
   ],
   "source": [
    "y_pos = np.arange(len(word_list))\n",
    "plt.figure(figsize=(20,10))\n",
    "plt.bar(y_pos, qty_list, align='center', alpha=0.5, color='r')\n",
    "plt.xticks(fontsize=18, rotation=90)\n",
    "plt.xticks(y_pos, word_list)\n",
    "plt.ylabel('Frequency')\n",
    "plt.title('Most Common Words')"
   ]
  },
  {
   "cell_type": "markdown",
   "metadata": {},
   "source": [
    "In the above graph, we can observe that terms like movie and film are very common as well as words that have a positive spin on the film. Terms like 'like', 'good', 'well', 'great', adn 'better' are all in the top 50 terms whereas only 'bad' is present for a 'negative term'. "
   ]
  },
  {
   "cell_type": "code",
   "execution_count": 144,
   "metadata": {},
   "outputs": [],
   "source": [
    "from gensim.models import word2vec\n",
    "from gensim.models import Word2Vec\n"
   ]
  },
  {
   "cell_type": "code",
   "execution_count": 147,
   "metadata": {},
   "outputs": [
    {
     "data": {
      "text/plain": [
       "'brilliant'"
      ]
     },
     "execution_count": 147,
     "metadata": {},
     "output_type": "execute_result"
    }
   ],
   "source": [
    "review[2][0]"
   ]
  },
  {
   "cell_type": "markdown",
   "metadata": {},
   "source": [
    "With that taken care of, we can observe how accurately we're able to predict and understand similar words to ones common in film. "
   ]
  },
  {
   "cell_type": "code",
   "execution_count": 148,
   "metadata": {},
   "outputs": [],
   "source": [
    "word2_mod = Word2Vec(review, size=100, window=5, min_count=1, workers=4)"
   ]
  },
  {
   "cell_type": "code",
   "execution_count": 153,
   "metadata": {
    "scrolled": true
   },
   "outputs": [
    {
     "data": {
      "text/plain": [
       "(87199649, 115113410)"
      ]
     },
     "execution_count": 153,
     "metadata": {},
     "output_type": "execute_result"
    }
   ],
   "source": [
    "word2_mod.train(review, total_examples=word2_mod.corpus_count, epochs=10)"
   ]
  },
  {
   "cell_type": "code",
   "execution_count": 154,
   "metadata": {},
   "outputs": [],
   "source": [
    "wv = word2_mod.wv"
   ]
  },
  {
   "cell_type": "code",
   "execution_count": 156,
   "metadata": {
    "scrolled": true
   },
   "outputs": [
    {
     "data": {
      "text/plain": [
       "[('film', 0.9349132180213928),\n",
       " ('moviebr', 0.7702459096908569),\n",
       " ('flick', 0.7511550188064575),\n",
       " ('filmbr', 0.7002162337303162),\n",
       " ('filmit', 0.6979941129684448),\n",
       " ('movieit', 0.683742344379425),\n",
       " ('it', 0.6693394184112549),\n",
       " ('documentary', 0.6390275359153748),\n",
       " ('show', 0.6295328140258789),\n",
       " ('movieand', 0.6170936226844788)]"
      ]
     },
     "execution_count": 156,
     "metadata": {},
     "output_type": "execute_result"
    }
   ],
   "source": [
    "wv_list = wv.most_similar('movie')\n",
    "wv_list"
   ]
  },
  {
   "cell_type": "code",
   "execution_count": 157,
   "metadata": {},
   "outputs": [
    {
     "data": {
      "text/plain": [
       "'film'"
      ]
     },
     "execution_count": 157,
     "metadata": {},
     "output_type": "execute_result"
    }
   ],
   "source": [
    "wv_list[0][0]"
   ]
  },
  {
   "cell_type": "code",
   "execution_count": 158,
   "metadata": {
    "scrolled": false
   },
   "outputs": [
    {
     "data": {
      "text/plain": [
       "Text(0.5, 1.0, 'Most Common Words')"
      ]
     },
     "execution_count": 158,
     "metadata": {},
     "output_type": "execute_result"
    },
    {
     "data": {
      "image/png": "[encoded data removed]",
      "text/plain": [
       "<Figure size 1440x720 with 1 Axes>"
      ]
     },
     "metadata": {
      "needs_background": "light"
     },
     "output_type": "display_data"
    }
   ],
   "source": [
    "word_list = []\n",
    "qty_list = []\n",
    "for i in range(0, len(wv_list)):\n",
    "    word_list.append(wv_list[i][0])\n",
    "    qty_list.append(wv_list[i][1])\n",
    "\n",
    "y_pos = np.arange(len(word_list))\n",
    "plt.figure(figsize=(20,10))\n",
    "plt.bar(y_pos, qty_list, align='center', alpha=0.5, color='r')\n",
    "plt.xticks(fontsize=18, rotation=90)\n",
    "plt.xticks(y_pos, word_list)\n",
    "plt.ylabel('Similarity')\n",
    "plt.title('Most Common Words')"
   ]
  },
  {
   "cell_type": "markdown",
   "metadata": {},
   "source": [
    "Almost all words similar to films are either typos of some variation of film or a different word for film like, movie, flick or picture. "
   ]
  },
  {
   "cell_type": "code",
   "execution_count": 159,
   "metadata": {
    "scrolled": true
   },
   "outputs": [
    {
     "data": {
      "text/plain": [
       "[('camerawork', 0.7713401913642883),\n",
       " ('pacing', 0.7668999433517456),\n",
       " ('lighting', 0.7660887837409973),\n",
       " ('cinematography', 0.7195342183113098),\n",
       " ('direction', 0.7195173501968384),\n",
       " ('directing', 0.7142985463142395),\n",
       " ('shaky', 0.6696984767913818),\n",
       " ('framing', 0.6654821634292603),\n",
       " ('scripting', 0.6610367298126221),\n",
       " ('audio', 0.6594802737236023)]"
      ]
     },
     "execution_count": 159,
     "metadata": {},
     "output_type": "execute_result"
    }
   ],
   "source": [
    "wv_list = wv.most_similar('editing')\n",
    "wv_list"
   ]
  },
  {
   "cell_type": "code",
   "execution_count": 160,
   "metadata": {},
   "outputs": [
    {
     "data": {
      "text/plain": [
       "'camerawork'"
      ]
     },
     "execution_count": 160,
     "metadata": {},
     "output_type": "execute_result"
    }
   ],
   "source": [
    "wv_list[0][0]"
   ]
  },
  {
   "cell_type": "code",
   "execution_count": 161,
   "metadata": {},
   "outputs": [
    {
     "data": {
      "text/plain": [
       "Text(0.5, 1.0, 'Most Common Words')"
      ]
     },
     "execution_count": 161,
     "metadata": {},
     "output_type": "execute_result"
    },
    {
     "data": {
      "image/png": "[encoded data removed]",
      "text/plain": [
       "<Figure size 1440x720 with 1 Axes>"
      ]
     },
     "metadata": {
      "needs_background": "light"
     },
     "output_type": "display_data"
    }
   ],
   "source": [
    "word_list = []\n",
    "qty_list = []\n",
    "for i in range(0, len(wv_list)):\n",
    "    word_list.append(wv_list[i][0])\n",
    "    qty_list.append(wv_list[i][1])\n",
    "\n",
    "y_pos = np.arange(len(word_list))\n",
    "plt.figure(figsize=(20,10))\n",
    "plt.bar(y_pos, qty_list, align='center', alpha=0.5, color='r')\n",
    "plt.xticks(fontsize=18, rotation=90)\n",
    "plt.xticks(y_pos, word_list)\n",
    "plt.ylabel('Similarity')\n",
    "plt.title('Most Common Words')"
   ]
  },
  {
   "cell_type": "markdown",
   "metadata": {},
   "source": [
    "Examining a technical word like editing brings up similar technical issues people liked to discuss within the film like lighting, camerawork, pacing, and cinematography as well as characterizations of how the film was recorded or edited such as shaky or choppy. "
   ]
  },
  {
   "cell_type": "code",
   "execution_count": 162,
   "metadata": {
    "scrolled": true
   },
   "outputs": [
    {
     "data": {
      "text/plain": [
       "[('storyline', 0.8294728398323059),\n",
       " ('plot', 0.8052809238433838),\n",
       " ('tale', 0.7055956125259399),\n",
       " ('narrative', 0.6864293813705444),\n",
       " ('concept', 0.6751409769058228),\n",
       " ('storybr', 0.6749937534332275),\n",
       " ('premise', 0.6438127756118774),\n",
       " ('stories', 0.642119288444519),\n",
       " ('script', 0.6309328675270081),\n",
       " ('drama', 0.5695381164550781)]"
      ]
     },
     "execution_count": 162,
     "metadata": {},
     "output_type": "execute_result"
    }
   ],
   "source": [
    "wv_list = wv.most_similar('story')\n",
    "wv_list"
   ]
  },
  {
   "cell_type": "code",
   "execution_count": 163,
   "metadata": {},
   "outputs": [
    {
     "data": {
      "text/plain": [
       "'storyline'"
      ]
     },
     "execution_count": 163,
     "metadata": {},
     "output_type": "execute_result"
    }
   ],
   "source": [
    "wv_list[0][0]"
   ]
  },
  {
   "cell_type": "code",
   "execution_count": 164,
   "metadata": {
    "scrolled": false
   },
   "outputs": [
    {
     "data": {
      "text/plain": [
       "Text(0.5, 1.0, 'Most Common Words')"
      ]
     },
     "execution_count": 164,
     "metadata": {},
     "output_type": "execute_result"
    },
    {
     "data": {
      "image/png": "[encoded data removed]",
      "text/plain": [
       "<Figure size 1440x720 with 1 Axes>"
      ]
     },
     "metadata": {
      "needs_background": "light"
     },
     "output_type": "display_data"
    }
   ],
   "source": [
    "word_list = []\n",
    "qty_list = []\n",
    "for i in range(0, len(wv_list)):\n",
    "    word_list.append(wv_list[i][0])\n",
    "    qty_list.append(wv_list[i][1])\n",
    "\n",
    "y_pos = np.arange(len(word_list))\n",
    "plt.figure(figsize=(20,10))\n",
    "plt.bar(y_pos, qty_list, align='center', alpha=0.5, color='r')\n",
    "plt.xticks(fontsize=18, rotation=90)\n",
    "plt.xticks(y_pos, word_list)\n",
    "plt.ylabel('Similarity')\n",
    "plt.title('Most Common Words')"
   ]
  },
  {
   "cell_type": "markdown",
   "metadata": {},
   "source": []
  },
  {
   "cell_type": "code",
   "execution_count": 165,
   "metadata": {
    "scrolled": true
   },
   "outputs": [
    {
     "data": {
      "text/plain": [
       "[('direction', 0.6805692911148071),\n",
       " ('directing', 0.668736457824707),\n",
       " ('writing', 0.666034996509552),\n",
       " ('actingbr', 0.6629424095153809),\n",
       " ('performances', 0.6611748933792114),\n",
       " ('cinematography', 0.6511090397834778),\n",
       " ('dialogue', 0.6465157270431519),\n",
       " ('dialog', 0.6382314562797546),\n",
       " ('editing', 0.6361435651779175),\n",
       " ('dubbing', 0.6188401579856873)]"
      ]
     },
     "execution_count": 165,
     "metadata": {},
     "output_type": "execute_result"
    }
   ],
   "source": [
    "wv_list = wv.most_similar('acting')\n",
    "wv_list"
   ]
  },
  {
   "cell_type": "code",
   "execution_count": 166,
   "metadata": {},
   "outputs": [
    {
     "data": {
      "text/plain": [
       "'direction'"
      ]
     },
     "execution_count": 166,
     "metadata": {},
     "output_type": "execute_result"
    }
   ],
   "source": [
    "wv_list[0][0]"
   ]
  },
  {
   "cell_type": "code",
   "execution_count": 167,
   "metadata": {
    "scrolled": false
   },
   "outputs": [
    {
     "data": {
      "text/plain": [
       "Text(0.5, 1.0, 'Most Common Words')"
      ]
     },
     "execution_count": 167,
     "metadata": {},
     "output_type": "execute_result"
    },
    {
     "data": {
      "image/png": "[encoded data removed]",
      "text/plain": [
       "<Figure size 1440x720 with 1 Axes>"
      ]
     },
     "metadata": {
      "needs_background": "light"
     },
     "output_type": "display_data"
    }
   ],
   "source": [
    "word_list = []\n",
    "qty_list = []\n",
    "for i in range(0, len(wv_list)):\n",
    "    word_list.append(wv_list[i][0])\n",
    "    qty_list.append(wv_list[i][1])\n",
    "\n",
    "y_pos = np.arange(len(word_list))\n",
    "plt.figure(figsize=(20,10))\n",
    "plt.bar(y_pos, qty_list, align='center', alpha=0.5, color='r')\n",
    "plt.xticks(fontsize=18, rotation=90)\n",
    "plt.xticks(y_pos, word_list)\n",
    "plt.ylabel('Similarity')\n",
    "plt.title('Most Common Words')"
   ]
  },
  {
   "cell_type": "code",
   "execution_count": 168,
   "metadata": {
    "scrolled": true
   },
   "outputs": [
    {
     "data": {
      "text/plain": [
       "[('performancebr', 0.7244521379470825),\n",
       " ('performances', 0.6937066316604614),\n",
       " ('role', 0.6651344299316406),\n",
       " ('portrayal', 0.6103990077972412),\n",
       " ('actor', 0.5853068828582764),\n",
       " ('characterand', 0.553728461265564),\n",
       " ('actorbut', 0.5518258810043335),\n",
       " ('performer', 0.5507788062095642),\n",
       " ('presence', 0.5475502014160156),\n",
       " ('comedienne', 0.5413469672203064)]"
      ]
     },
     "execution_count": 168,
     "metadata": {},
     "output_type": "execute_result"
    }
   ],
   "source": [
    "wv_list = wv.most_similar('performance')\n",
    "wv_list"
   ]
  },
  {
   "cell_type": "code",
   "execution_count": 169,
   "metadata": {},
   "outputs": [
    {
     "data": {
      "text/plain": [
       "'performancebr'"
      ]
     },
     "execution_count": 169,
     "metadata": {},
     "output_type": "execute_result"
    }
   ],
   "source": [
    "wv_list[0][0]"
   ]
  },
  {
   "cell_type": "code",
   "execution_count": 170,
   "metadata": {},
   "outputs": [
    {
     "data": {
      "text/plain": [
       "Text(0.5, 1.0, 'Most Common Words')"
      ]
     },
     "execution_count": 170,
     "metadata": {},
     "output_type": "execute_result"
    },
    {
     "data": {
      "image/png": "[encoded data removed]",
      "text/plain": [
       "<Figure size 1440x720 with 1 Axes>"
      ]
     },
     "metadata": {
      "needs_background": "light"
     },
     "output_type": "display_data"
    }
   ],
   "source": [
    "word_list = []\n",
    "qty_list = []\n",
    "for i in range(0, len(wv_list)):\n",
    "    word_list.append(wv_list[i][0])\n",
    "    qty_list.append(wv_list[i][1])\n",
    "\n",
    "y_pos = np.arange(len(word_list))\n",
    "plt.figure(figsize=(20,10))\n",
    "plt.bar(y_pos, qty_list, align='center', alpha=0.5, color='r')\n",
    "plt.xticks(fontsize=18, rotation=90)\n",
    "plt.xticks(y_pos, word_list)\n",
    "plt.ylabel('Similairty')\n",
    "plt.title('Most Common Words')"
   ]
  },
  {
   "cell_type": "code",
   "execution_count": null,
   "metadata": {},
   "outputs": [],
   "source": []
  },
  {
   "cell_type": "code",
   "execution_count": 176,
   "metadata": {},
   "outputs": [],
   "source": [
    "pos = final_df.loc[final_df.rating==1]"
   ]
  },
  {
   "cell_type": "code",
   "execution_count": 177,
   "metadata": {},
   "outputs": [],
   "source": [
    "from string import punctuation\n",
    "from os import listdir\n",
    "from collections import Counter\n",
    "from nltk.corpus import stopwords\n",
    "vocab = {}\n",
    "for i in pos['review']:\n",
    "    for j in i: \n",
    "        if j not in vocab: \n",
    "            vocab[j]=1\n",
    "        else:\n",
    "            vocab[j]+1"
   ]
  },
  {
   "cell_type": "code",
   "execution_count": 178,
   "metadata": {},
   "outputs": [],
   "source": [
    "list = []\n",
    "for i in pos.review:\n",
    "    for j in i:\n",
    "        list.append(j)"
   ]
  },
  {
   "cell_type": "code",
   "execution_count": 179,
   "metadata": {},
   "outputs": [],
   "source": [
    "list = [w for w in list if not w in stop_words]\n",
    "# filter out short tokens\n",
    "list = [word for word in list if len(word) > 2]\n"
   ]
  },
  {
   "cell_type": "markdown",
   "metadata": {},
   "source": [
    "The line of code above gets rid of all words that are shorter than 3 letters and removes all stopwords from the dataset"
   ]
  },
  {
   "cell_type": "code",
   "execution_count": 180,
   "metadata": {},
   "outputs": [],
   "source": [
    "vocab = Counter(list)"
   ]
  },
  {
   "cell_type": "code",
   "execution_count": 181,
   "metadata": {},
   "outputs": [],
   "source": [
    "common = vocab.most_common(50)"
   ]
  },
  {
   "cell_type": "code",
   "execution_count": 182,
   "metadata": {
    "scrolled": true
   },
   "outputs": [
    {
     "data": {
      "text/plain": [
       "['film',\n",
       " 'movie',\n",
       " 'one',\n",
       " 'like',\n",
       " 'good',\n",
       " 'great',\n",
       " 'story',\n",
       " 'see',\n",
       " 'time',\n",
       " 'well',\n",
       " 'also',\n",
       " 'really',\n",
       " 'would',\n",
       " 'even',\n",
       " 'much',\n",
       " 'first',\n",
       " 'films',\n",
       " 'love',\n",
       " 'people',\n",
       " 'best']"
      ]
     },
     "execution_count": 182,
     "metadata": {},
     "output_type": "execute_result"
    }
   ],
   "source": [
    "word_list = []\n",
    "qty_list = []\n",
    "for i in range(0, len(common)):\n",
    "    word_list.append(common[i][0])\n",
    "    qty_list.append(common[i][1])\n",
    "word_list[:20]"
   ]
  },
  {
   "cell_type": "code",
   "execution_count": 202,
   "metadata": {
    "scrolled": false
   },
   "outputs": [
    {
     "data": {
      "text/plain": [
       "Text(0.5, 1.0, 'Most Common Words In Positive films')"
      ]
     },
     "execution_count": 202,
     "metadata": {},
     "output_type": "execute_result"
    },
    {
     "data": {
      "image/png": "[encoded data removed]",
      "text/plain": [
       "<Figure size 1440x720 with 1 Axes>"
      ]
     },
     "metadata": {
      "needs_background": "light"
     },
     "output_type": "display_data"
    }
   ],
   "source": [
    "y_pos = np.arange(len(word_list))\n",
    "plt.figure(figsize=(20,10))\n",
    "plt.bar(y_pos, qty_list, align='center', alpha=0.5, color='r')\n",
    "plt.xticks(fontsize=18, rotation=90)\n",
    "plt.xticks(y_pos, word_list)\n",
    "plt.ylabel('Frequency')\n",
    "plt.title('Most Common Words In Positive films')"
   ]
  },
  {
   "cell_type": "markdown",
   "metadata": {},
   "source": [
    "Conclusion: Our models performed effectively at figuring out what words reflect a film being good and what words reflect a poor film. We also see how a technical aspect like camerawork, is contextually similar to other technical aspects of film like pacing, editing, cinematography, and set design. "
   ]
  }
 ],
 "metadata": {
  "kernelspec": {
   "display_name": "Python 3",
   "language": "python",
   "name": "python3"
  },
  "language_info": {
   "codemirror_mode": {
    "name": "ipython",
    "version": 3
   },
   "file_extension": ".py",
   "mimetype": "text/x-python",
   "name": "python",
   "nbconvert_exporter": "python",
   "pygments_lexer": "ipython3",
   "version": "3.6.8"
  }
 },
 "nbformat": 4,
 "nbformat_minor": 2
}
